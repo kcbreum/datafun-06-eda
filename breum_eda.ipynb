{
 "cells": [
  {
   "cell_type": "markdown",
   "id": "1cc1869e-f50f-412f-b8ca-8562979c90da",
   "metadata": {},
   "source": [
    "# **Project 6 - EDA Notebook**\n",
    "**Name:** Kayla Breum\n",
    "\n",
    "**Date:** 2/10/2024\n",
    "\n",
    "The purpose of this project is to demonstrate the ability to perform and publish a custom EDA, utilizing skills with Jupyter, pandas, Seaborn, and other popular tools for data analytics."
   ]
  },
  {
   "cell_type": "code",
   "execution_count": 6,
   "id": "eb566d28-9ca1-4e51-aaa6-9792d89ff7d1",
   "metadata": {
    "jupyter": {
     "source_hidden": true
    }
   },
   "outputs": [],
   "source": [
    "## **Import Dependencies**\n",
    "import matplotlib.pyplot as plt\n",
    "import pandas as pd\n",
    "import seaborn as sns"
   ]
  },
  {
   "cell_type": "code",
   "execution_count": 7,
   "id": "d40c017b-6718-4936-90c8-6ad863582aae",
   "metadata": {},
   "outputs": [
    {
     "name": "stdout",
     "output_type": "stream",
     "text": [
      "   Unnamed: 0  id     diet  pulse    time  kind\n",
      "0           0   1  low fat     85   1 min  rest\n",
      "1           1   1  low fat     85  15 min  rest\n",
      "2           2   1  low fat     88  30 min  rest\n",
      "3           3   2  low fat     90   1 min  rest\n",
      "4           4   2  low fat     92  15 min  rest\n"
     ]
    }
   ],
   "source": [
    "## **Data Acquisition**\n",
    "### Load the dataset into a pandas DataFrame\n",
    "df = sns.load_dataset('exercise')\n",
    "\n",
    "### Inspect first rows of the DataFrame\n",
    "print(df.head())"
   ]
  },
  {
   "cell_type": "code",
   "execution_count": 8,
   "id": "d7c7ee3e-ab13-4119-a4d6-d450eab70b3b",
   "metadata": {},
   "outputs": [
    {
     "name": "stdout",
     "output_type": "stream",
     "text": [
      "   Unnamed: 0  id     diet  pulse    time  kind\n",
      "0           0   1  low fat     85   1 min  rest\n",
      "1           1   1  low fat     85  15 min  rest\n",
      "2           2   1  low fat     88  30 min  rest\n",
      "3           3   2  low fat     90   1 min  rest\n",
      "4           4   2  low fat     92  15 min  rest\n",
      "5           5   2  low fat     93  30 min  rest\n",
      "6           6   3  low fat     97   1 min  rest\n",
      "7           7   3  low fat     97  15 min  rest\n",
      "8           8   3  low fat     94  30 min  rest\n",
      "9           9   4  low fat     80   1 min  rest\n",
      "(90, 6)\n",
      "Unnamed: 0       int64\n",
      "id               int64\n",
      "diet          category\n",
      "pulse            int64\n",
      "time          category\n",
      "kind          category\n",
      "dtype: object\n"
     ]
    }
   ],
   "source": [
    "## **Initial Data Inspection**\n",
    "\n",
    "print(df.head(10))\n",
    "print(df.shape)\n",
    "print(df.dtypes)"
   ]
  },
  {
   "cell_type": "code",
   "execution_count": 9,
   "id": "8d5ab2f5-0aad-4c91-b093-f4dccfac1b3b",
   "metadata": {},
   "outputs": [
    {
     "name": "stdout",
     "output_type": "stream",
     "text": [
      "       Unnamed: 0         id       pulse\n",
      "count   90.000000  90.000000   90.000000\n",
      "mean    44.500000  15.500000   99.700000\n",
      "std     26.124701   8.703932   14.858471\n",
      "min      0.000000   1.000000   80.000000\n",
      "25%     22.250000   8.000000   90.250000\n",
      "50%     44.500000  15.500000   96.000000\n",
      "75%     66.750000  23.000000  103.000000\n",
      "max     89.000000  30.000000  150.000000\n"
     ]
    }
   ],
   "source": [
    "## **Initial Descriptive Statistics**\n",
    "print(df.describe())"
   ]
  },
  {
   "cell_type": "code",
   "execution_count": null,
   "id": "537b45fb-6c7f-4a09-aea3-5e557b1203bf",
   "metadata": {},
   "outputs": [],
   "source": []
  }
 ],
 "metadata": {
  "kernelspec": {
   "display_name": "Python 3 (ipykernel)",
   "language": "python",
   "name": "python3"
  },
  "language_info": {
   "codemirror_mode": {
    "name": "ipython",
    "version": 3
   },
   "file_extension": ".py",
   "mimetype": "text/x-python",
   "name": "python",
   "nbconvert_exporter": "python",
   "pygments_lexer": "ipython3",
   "version": "3.12.1"
  }
 },
 "nbformat": 4,
 "nbformat_minor": 5
}
