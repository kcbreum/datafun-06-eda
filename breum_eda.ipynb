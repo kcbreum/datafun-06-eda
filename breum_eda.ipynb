{
 "cells": [
  {
   "cell_type": "markdown",
   "id": "1cc1869e-f50f-412f-b8ca-8562979c90da",
   "metadata": {},
   "source": [
    "# **Project 6 - EDA Notebook**\n",
    "**Name:** Kayla Breum\n",
    "\n",
    "**Date:** 2/10/2024\n",
    "\n",
    "The purpose of this project is to demonstrate the ability to perform and publish a custom EDA, utilizing skills with Jupyter, pandas, Seaborn, and other popular tools for data analytics."
   ]
  },
  {
   "cell_type": "code",
   "execution_count": null,
   "id": "eb566d28-9ca1-4e51-aaa6-9792d89ff7d1",
   "metadata": {},
   "outputs": [],
   "source": [
    "## **Import Dependencies**\n",
    "import matplotlib.pyplot as plt\n",
    "import pandas as pd\n",
    "import seaborn as sns"
   ]
  },
  {
   "cell_type": "code",
   "execution_count": null,
   "id": "d40c017b-6718-4936-90c8-6ad863582aae",
   "metadata": {},
   "outputs": [],
   "source": []
  }
 ],
 "metadata": {
  "kernelspec": {
   "display_name": "Python 3 (ipykernel)",
   "language": "python",
   "name": "python3"
  },
  "language_info": {
   "codemirror_mode": {
    "name": "ipython",
    "version": 3
   },
   "file_extension": ".py",
   "mimetype": "text/x-python",
   "name": "python",
   "nbconvert_exporter": "python",
   "pygments_lexer": "ipython3",
   "version": "3.12.1"
  }
 },
 "nbformat": 4,
 "nbformat_minor": 5
}
